{
    "cells": [
        {
            "cell_type": "markdown",
            "metadata": {
                "collapsed": true
            },
            "source": "# Data Science Capstone Project"
        },
        {
            "cell_type": "markdown",
            "metadata": {},
            "source": "## Draft Proposal\n### Title: Cassava Production Demonstration Farms in Thma Puok District of Banteay Meanchey province, Cambodia\n"
        },
        {
            "cell_type": "markdown",
            "metadata": {},
            "source": "### Section 1: Introduction:"
        },
        {
            "cell_type": "markdown",
            "metadata": {},
            "source": "I am going to find the best location for setting up a demonstration farm for cassava production in Thma Puok, a district in the north of Banteay Meanchey Province, in north-western Cambodia. The district capital is Thma Puok town located around 42 kilometres north of the provincial capital of Serei Soaphoan by road. The district shares a border with Thailand to the west and Oddar Meanchey Province to the north-east. No national highway runs through the district but national road from Serei Soaphoan and other new main roads to Samraong in Oddar Meanchey province cross the district from north to south. \nI choose Thma Puok for study because it has a high potential for commercial cassava production since most of household in this district participate in cassava sub-sector to generate income for their families and plant cassava on 33,852 ha of land, which is about 44% of cassava production areas in the whole Banteay Meanchey province (CDB, 2016). Cassava is the second main crop after rice in this district. Cassava products (fresh or dried) can be easily sold in markets that are available in Thailand. However, the cassava productivity is quite low (16 tons/ha) compared to yields produced by farmers in neighbouring countries (23 tons/ha in Thailand and 18 tons/ha in Vietnam). This is because of farmers lack technologies, low quality of inputs, low production kills and capacity for farms management and soil quality improvement. Farmers need help in these regards. Development sectors, therefore, provides support in terms of trainings together with demonstration of innovations on farms to farmers in some locations of the district.\nWhy demonstration farm? A training in class found to be not so effective for farmers with low level of knowledge, but on the demonstration farm because the farmers can see what has happened successfully or unsuccessfully, and they can practice and share their experiences based on the realities and facts. Presently, more cassava demonstration farms are needed to show innovations to farmers in different places, but through experience, the selection of their locations is a critical issue because it failed sometimes as there was not enough participants which led to low impacts. Therefore, a project has to be done and a good location with criteria must be selected. As a development worker, I want to demonstrate a best new demonstration farm which will be identified based on the criteria such as locations of existing demonstration farms, areas within a certain distance of a main road, and in areas that have a certain population density (more people producing cassava).\n\u2022\tI would like to select a location of new demonstration farm based on a certain distance from existing ones because I don\u2019t want them to be overlapping. The aim is to spread impact to new areas as much as possible.\n\u2022\tI would like to select a demo farm within a certain distance from a main road because I want it is easily accessible for more farmers to get trained.\n\u2022\tI would like to identify areas in the highest population quartile to ensure that my demonstration farm is in an area with lots of potential participants.\n"
        },
        {
            "cell_type": "markdown",
            "metadata": {},
            "source": "### Section 2: Data Discovery"
        },
        {
            "cell_type": "markdown",
            "metadata": {},
            "source": "For this project I need different data from different sources to produce a story map. The first data is about demography such as households or population data which will be obtained from the Cambodian Commune Data Base (CDB) 2016 produced by the Cambodian Ministry of Planning. The second data is about location of existing demonstration farms for cassava production which have been implemented and collected by my colleague, a development worker who is working in the field of agricultural extension in this area for a Non-Governmental Organisation. The third data are all background information which are important for data analyses such as vector data regarding roads, boundary of communes within the district, and district, commune and village points which produced by the Cambodian Department of Geography posted in the website of an organization, namely Open Development Cambodia (ODC)."
        },
        {
            "cell_type": "markdown",
            "metadata": {},
            "source": "### Section 3: Methods and Anticipated Results"
        },
        {
            "cell_type": "markdown",
            "metadata": {},
            "source": "To answer the question of where should be the best location of new demonstration farms, the following methods will be used:\n1)\tKnowing the area and population of each commune, the density of population will be calculated, then the high populated in terms of quartile will be identified.\n\n2)\tKnowing the locations with or without existing demonstration farms and the high populated area, the high populated area without an existing demonstration farm will be identified. This can be done by adding points of existing demonstration farms to the map and set a buffer in a distance of 5 km from each point (supposed this buffer zone is impacted by the farm), then find the area where there is no demo farm at all.\n\n3)\tKnowing main roads and the high populated area without an existing demonstration farm, the new location of demonstration farms will be identified. This can be done by adding all main roads to the map and set a buffer in a distance of 3 km from a road (supposed this buffer zone are easily accessible by farmers to get trainings), then find the intersection of both high-density populations area without existing demonstration farms and within a distance of 3 km from a main road.\nThis result will be presented by a special colour based on a polygon of commune boundary that indicate areas that meet all 3 criteria.\n"
        },
        {
            "cell_type": "markdown",
            "metadata": {},
            "source": "## Getting Data For Analyses"
        },
        {
            "cell_type": "code",
            "execution_count": 1,
            "metadata": {},
            "outputs": [],
            "source": "# import libraries\nimport pandas as pd\nimport numpy as np"
        },
        {
            "cell_type": "code",
            "execution_count": 2,
            "metadata": {},
            "outputs": [
                {
                    "data": {
                        "text/html": "<div>\n<style scoped>\n    .dataframe tbody tr th:only-of-type {\n        vertical-align: middle;\n    }\n\n    .dataframe tbody tr th {\n        vertical-align: top;\n    }\n\n    .dataframe thead th {\n        text-align: right;\n    }\n</style>\n<table border=\"1\" class=\"dataframe\">\n  <thead>\n    <tr style=\"text-align: right;\">\n      <th></th>\n      <th>XCOOR</th>\n      <th>YCOOR</th>\n      <th>Village</th>\n      <th>Commune</th>\n      <th>Ditrict</th>\n      <th>Households_2016</th>\n      <th>Female_2016</th>\n      <th>Male_2016</th>\n      <th>Female_headed_HH</th>\n      <th>Lat</th>\n      <th>Lon</th>\n    </tr>\n  </thead>\n  <tbody>\n    <tr>\n      <th>0</th>\n      <td>296758</td>\n      <td>1559997.0</td>\n      <td>Kouk Samraong</td>\n      <td>Banteay Chhmar</td>\n      <td>Thma Puok</td>\n      <td>318</td>\n      <td>507</td>\n      <td>518</td>\n      <td>18</td>\n      <td>14.103592</td>\n      <td>103.117423</td>\n    </tr>\n    <tr>\n      <th>1</th>\n      <td>289310</td>\n      <td>1559158.0</td>\n      <td>Kbal Tonsaong</td>\n      <td>Banteay Chhmar</td>\n      <td>Thma Puok</td>\n      <td>345</td>\n      <td>585</td>\n      <td>645</td>\n      <td>29</td>\n      <td>14.095462</td>\n      <td>103.048527</td>\n    </tr>\n    <tr>\n      <th>2</th>\n      <td>294684</td>\n      <td>1556274.0</td>\n      <td>Banteay Chhmar Cheung</td>\n      <td>Banteay Chhmar</td>\n      <td>Thma Puok</td>\n      <td>470</td>\n      <td>791</td>\n      <td>789</td>\n      <td>26</td>\n      <td>14.069797</td>\n      <td>103.098498</td>\n    </tr>\n    <tr>\n      <th>3</th>\n      <td>303100</td>\n      <td>1552100.0</td>\n      <td>Kbal Krabei</td>\n      <td>Banteay Chhmar</td>\n      <td>Thma Puok</td>\n      <td>410</td>\n      <td>612</td>\n      <td>661</td>\n      <td>18</td>\n      <td>14.032676</td>\n      <td>103.176712</td>\n    </tr>\n    <tr>\n      <th>4</th>\n      <td>295437</td>\n      <td>1554858.0</td>\n      <td>Banteay Chhmar Tboung</td>\n      <td>Banteay Chhmar</td>\n      <td>Thma Puok</td>\n      <td>553</td>\n      <td>1,065</td>\n      <td>992</td>\n      <td>91</td>\n      <td>14.057056</td>\n      <td>103.105575</td>\n    </tr>\n  </tbody>\n</table>\n</div>",
                        "text/plain": "    XCOOR      YCOOR                Village         Commune    Ditrict  \\\n0  296758  1559997.0          Kouk Samraong  Banteay Chhmar  Thma Puok   \n1  289310  1559158.0          Kbal Tonsaong  Banteay Chhmar  Thma Puok   \n2  294684  1556274.0  Banteay Chhmar Cheung  Banteay Chhmar  Thma Puok   \n3  303100  1552100.0            Kbal Krabei  Banteay Chhmar  Thma Puok   \n4  295437  1554858.0  Banteay Chhmar Tboung  Banteay Chhmar  Thma Puok   \n\n   Households_2016 Female_2016 Male_2016 Female_headed_HH        Lat  \\\n0              318         507       518               18  14.103592   \n1              345         585       645               29  14.095462   \n2              470         791       789               26  14.069797   \n3              410         612       661               18  14.032676   \n4              553       1,065       992               91  14.057056   \n\n          Lon  \n0  103.117423  \n1  103.048527  \n2  103.098498  \n3  103.176712  \n4  103.105575  "
                    },
                    "execution_count": 2,
                    "metadata": {},
                    "output_type": "execute_result"
                }
            ],
            "source": "# The code was removed by Watson Studio for sharing."
        },
        {
            "cell_type": "code",
            "execution_count": null,
            "metadata": {},
            "outputs": [],
            "source": ""
        }
    ],
    "metadata": {
        "kernelspec": {
            "display_name": "Python 3.6",
            "language": "python",
            "name": "python3"
        },
        "language_info": {
            "codemirror_mode": {
                "name": "ipython",
                "version": 3
            },
            "file_extension": ".py",
            "mimetype": "text/x-python",
            "name": "python",
            "nbconvert_exporter": "python",
            "pygments_lexer": "ipython3",
            "version": "3.6.8"
        }
    },
    "nbformat": 4,
    "nbformat_minor": 1
}